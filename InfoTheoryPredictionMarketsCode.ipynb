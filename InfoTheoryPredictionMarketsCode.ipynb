{
 "cells": [
  {
   "cell_type": "code",
   "execution_count": 1,
   "metadata": {},
   "outputs": [],
   "source": [
    "import numpy as np\n",
    "import kalshi_python\n",
    "from kalshi_python.models import *\n",
    "import uuid"
   ]
  },
  {
   "cell_type": "code",
   "execution_count": 61,
   "metadata": {},
   "outputs": [],
   "source": [
    "import matplotlib.pyplot as plt\n",
    "from scipy import stats"
   ]
  },
  {
   "cell_type": "code",
   "execution_count": 2,
   "metadata": {},
   "outputs": [],
   "source": [
    "config = kalshi_python.Configuration()\n",
    "config.host = 'https://demo-api.kalshi.co/trade-api/v2'"
   ]
  },
  {
   "cell_type": "code",
   "execution_count": 3,
   "metadata": {},
   "outputs": [],
   "source": [
    "# this is a demo only account and has no cashable money on it, but you're welcome to fund it :)\n",
    "kalshi_api = kalshi_python.ApiInstance(\n",
    "    email='ianjoffe@uchicago.edu',\n",
    "    password='Linear-Sketch-2024!',\n",
    "    configuration=config,\n",
    ")"
   ]
  },
  {
   "cell_type": "code",
   "execution_count": 57,
   "metadata": {},
   "outputs": [],
   "source": [
    "marketTicker = 'FED-23DEC-T3.00'\n",
    "historyResponse = kalshi_api.get_market_history(marketTicker)\n",
    "order_times = np.array([order.ts for order in historyResponse.history])\n",
    "order_times = order_times - min(order_times)\n",
    "waiting_times = np.diff(order_times)"
   ]
  },
  {
   "cell_type": "code",
   "execution_count": 63,
   "metadata": {},
   "outputs": [],
   "source": [
    "# MLE fit for exponential distribution\n",
    "expo_lambda_MLE = 1/np.mean(waiting_times)"
   ]
  },
  {
   "cell_type": "code",
   "execution_count": 67,
   "metadata": {},
   "outputs": [],
   "source": [
    "# likelihood of data under exponential fit\n",
    "exponential_likelihood = np.prod(stats.expon.pdf(waiting_times, expo_lambda_MLE))"
   ]
  },
  {
   "cell_type": "code",
   "execution_count": null,
   "metadata": {},
   "outputs": [],
   "source": [
    "# likelihood ratio test compared to null dist., double-gamma (avoids overdispersion)"
   ]
  }
 ],
 "metadata": {
  "kernelspec": {
   "display_name": "Python 3",
   "language": "python",
   "name": "python3"
  },
  "language_info": {
   "codemirror_mode": {
    "name": "ipython",
    "version": 3
   },
   "file_extension": ".py",
   "mimetype": "text/x-python",
   "name": "python",
   "nbconvert_exporter": "python",
   "pygments_lexer": "ipython3",
   "version": "3.7.3"
  }
 },
 "nbformat": 4,
 "nbformat_minor": 2
}
