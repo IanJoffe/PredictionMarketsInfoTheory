{
 "cells": [
  {
   "cell_type": "markdown",
   "metadata": {},
   "source": [
    "# Information Theory for Prediciton Markets - Accessory Notebook"
   ]
  },
  {
   "cell_type": "markdown",
   "metadata": {},
   "source": [
    "## Code by Ian Joffe, see report for details"
   ]
  },
  {
   "cell_type": "markdown",
   "metadata": {},
   "source": [
    "In Section 2 of my report, I discuss a multi-agent agreement game where the agents participate at a given time with uniform probability, or equivilently the number of announcments an agent makes is Poisson distributed and the waiting time between announcements is Exponential distributed. In Section 3, I discuss how the original paper's authors used an agreement game to learn about prediction markets, and I add that today's prediction markets are best described by the random participation variant of the agreement game. \n",
    "\n",
    "I want to examine whether bettors in real prediction markets actually participate uniformly over time. I use data from the real-money prediction market Kalshi for this assessment. Unfortunately, Kalshi does not offer data on orders placed by individual users, just the order book without trader IDs. But if each trader participates uniformly over time, then all trades occur uniformly over time, so we potentially can describe the quantity of and waiting times between all trades using the Poisson and Exponential. "
   ]
  },
  {
   "cell_type": "code",
   "execution_count": 1,
   "metadata": {},
   "outputs": [],
   "source": [
    "import numpy as np\n",
    "import kalshi_python\n",
    "from kalshi_python.models import *\n",
    "import uuid"
   ]
  },
  {
   "cell_type": "code",
   "execution_count": 2,
   "metadata": {
    "scrolled": false
   },
   "outputs": [
    {
     "name": "stderr",
     "output_type": "stream",
     "text": [
      "C:\\Users\\iijof\\Anaconda3\\lib\\site-packages\\pandas\\compat\\_optional.py:138: UserWarning: Pandas requires version '2.7.0' or newer of 'numexpr' (version '2.6.9' currently installed).\n",
      "  warnings.warn(msg, UserWarning)\n"
     ]
    }
   ],
   "source": [
    "import matplotlib.pyplot as plt\n",
    "from scipy import stats\n",
    "import statsmodels\n",
    "import pymc3 as pm # requires arviz version 0.11.0"
   ]
  },
  {
   "cell_type": "markdown",
   "metadata": {},
   "source": [
    "I'm using old markets accessible through the Kalshi demo API"
   ]
  },
  {
   "cell_type": "code",
   "execution_count": 3,
   "metadata": {},
   "outputs": [],
   "source": [
    "config = kalshi_python.Configuration()\n",
    "config.host = 'https://demo-api.kalshi.co/trade-api/v2'"
   ]
  },
  {
   "cell_type": "code",
   "execution_count": 4,
   "metadata": {},
   "outputs": [],
   "source": [
    "# this is a demo only account and has no personal info or cashable money on it, but the reader is welcome to fund it :)\n",
    "kalshi_api = kalshi_python.ApiInstance(\n",
    "    email='ianjoffe@uchicago.edu',\n",
    "    password='Linear-Sketch-2024!',\n",
    "    configuration=config,\n",
    ")"
   ]
  },
  {
   "cell_type": "markdown",
   "metadata": {},
   "source": [
    "The Kalshi API only makes trade times available at the granularity of seconds, so markets with action more often than that can't be examined. Anyway, it would make sense for lower-frequency markets to have fewer total agents trading, and trades completed by real humans instead of high frequency trading bots. My report focuses on trades between a small or medium number of real humans, so I'll focus on markets with a medium trading volume. The following code retrieves information about such markets over periods of time. "
   ]
  },
  {
   "cell_type": "code",
   "execution_count": 5,
   "metadata": {},
   "outputs": [
    {
     "name": "stdout",
     "output_type": "stream",
     "text": [
      "Number of Markets Examined: 28\n"
     ]
    }
   ],
   "source": [
    "min_volume = 10\n",
    "max_volume = 100\n",
    "\n",
    "markets = [m for m in kalshi_api.get_markets(status=\"closed\", limit=1000).markets \n",
    "    if (m.volume > min_volume and m.volume < max_volume)]\n",
    "\n",
    "print(\"Number of Markets Examined:\", len(markets))"
   ]
  },
  {
   "cell_type": "code",
   "execution_count": 6,
   "metadata": {},
   "outputs": [
    {
     "data": {
      "image/png": "[encoded data removed]",
      "text/plain": [
       "<Figure size 432x288 with 1 Axes>"
      ]
     },
     "metadata": {
      "needs_background": "light"
     },
     "output_type": "display_data"
    },
    {
     "data": {
      "image/png": "[encoded data removed]",
      "text/plain": [
       "<Figure size 432x288 with 1 Axes>"
      ]
     },
     "metadata": {
      "needs_background": "light"
     },
     "output_type": "display_data"
    }
   ],
   "source": [
    "market_hisotry = kalshi_api.get_market_history(markets[0].ticker, min_ts=0)\n",
    "order_times = np.array([order.ts for order in market_hisotry.history])\n",
    "order_times = order_times - min(order_times)\n",
    "waiting_times = np.diff(order_times)\n",
    "\n",
    "plt.hist(waiting_times, density=True);\n",
    "plt.title(\"Waiting Times Between Orders for a Kalshi Market\");\n",
    "plt.show();\n",
    "\n",
    "plt.hist([t for t in waiting_times if t < 500], density=True);\n",
    "plt.title(\"Waiting Times Between Orders for a Kalshi Market: Short Waiting Times\");\n",
    "plt.show();"
   ]
  },
  {
   "cell_type": "code",
   "execution_count": 7,
   "metadata": {},
   "outputs": [
    {
     "name": "stdout",
     "output_type": "stream",
     "text": [
      "Waiting Times:  [  6408    156  10027    143   1573    216    163     68    222      7\n",
      " 116254    142      1    228      1    227      1    226      1    227\n",
      "      1    223      1]\n"
     ]
    }
   ],
   "source": [
    "print(\"Waiting Times: \", waiting_times)"
   ]
  },
  {
   "cell_type": "markdown",
   "metadata": {},
   "source": [
    "This doens't look like a Exponential distribution, so the hypothesis that it is Exponential distributed seems unlikley. We can look at the data's likelihood under an Exponential distribution."
   ]
  },
  {
   "cell_type": "code",
   "execution_count": 8,
   "metadata": {},
   "outputs": [
    {
     "name": "stdout",
     "output_type": "stream",
     "text": [
      "MLE for Exponential's rate parameter: 0.00016847842011192827\n"
     ]
    }
   ],
   "source": [
    "# MLE fit for exponential distribution\n",
    "expon_lambda_MLE = 1/np.mean(waiting_times)\n",
    "print(\"MLE for Exponential's rate parameter:\", expon_lambda_MLE)"
   ]
  },
  {
   "cell_type": "markdown",
   "metadata": {},
   "source": [
    "The Exponential gives near-zero likelihood to at least one data point, as shown by the Log Likelihood"
   ]
  },
  {
   "cell_type": "code",
   "execution_count": 9,
   "metadata": {},
   "outputs": [
    {
     "name": "stdout",
     "output_type": "stream",
     "text": [
      "Log Likelihood for Data under MLE-parameterized Exponential: -inf\n"
     ]
    }
   ],
   "source": [
    "# likelihood of data under exponential fit\n",
    "expon_loglik = np.sum(np.log(stats.expon.pdf(waiting_times, expon_lambda_MLE)))\n",
    "print(\"Log Likelihood for Data under MLE-parameterized Exponential:\", expon_loglik)"
   ]
  },
  {
   "cell_type": "markdown",
   "metadata": {},
   "source": [
    "It's not just one data point either. Over half of the data has near zero likelihood under the Poisson with MLE $\\lambda$. A likelihood ratio test against any comparable null distribution would conclude that the Poisson fit is useless. "
   ]
  },
  {
   "cell_type": "code",
   "execution_count": 10,
   "metadata": {},
   "outputs": [
    {
     "name": "stdout",
     "output_type": "stream",
     "text": [
      "Proportion of waiting times with near zero probability under MLE-parameterized Exponential: 0.7\n"
     ]
    }
   ],
   "source": [
    "null_rate = sum(np.isclose(stats.expon.pdf(waiting_times, expon_lambda_MLE), 0)) / len(waiting_times)\n",
    "print(\"Proportion of waiting times with near zero probability under MLE-parameterized Exponential:\", round(null_rate, 2))"
   ]
  },
  {
   "cell_type": "markdown",
   "metadata": {},
   "source": [
    "We get the same results for all the markets that we're considering. "
   ]
  },
  {
   "cell_type": "code",
   "execution_count": 11,
   "metadata": {},
   "outputs": [
    {
     "data": {
      "image/png": "[encoded data removed]",
      "text/plain": [
       "<Figure size 432x288 with 1 Axes>"
      ]
     },
     "metadata": {
      "needs_background": "light"
     },
     "output_type": "display_data"
    }
   ],
   "source": [
    "all_waiting_times = []\n",
    "for m in markets:\n",
    "    market_hisotry = kalshi_api.get_market_history(m.ticker, min_ts=0)\n",
    "    order_times = np.array([order.ts for order in market_hisotry.history])\n",
    "    order_times = order_times - min(order_times)\n",
    "    all_waiting_times.append(np.diff(order_times))\n",
    "\n",
    "all_lambdas = [1/np.mean(times) for times in all_waiting_times]\n",
    "all_null_rates = [sum(np.isclose(stats.expon.pdf(all_waiting_times[i], all_lambdas[i]), 0)) /\n",
    "                  len(all_waiting_times[i]) for i in range(len(all_waiting_times))]\n",
    "\n",
    "\n",
    "plt.hist(all_null_rates, density=True);\n",
    "plt.title(\"Proportions of Zero Probability Data Points in Medium-Volume Markets \\n Exponential Fit\");"
   ]
  },
  {
   "cell_type": "markdown",
   "metadata": {},
   "source": [
    "It's possible that the only issue with the Exponential distribution is overdispersion, so adding a second parameter would make a much better fit. Therefore, we consider fitting using the Gamma distribution. We use method of moments since the Gamma doesn't have a closed form MLE. "
   ]
  },
  {
   "cell_type": "code",
   "execution_count": 12,
   "metadata": {},
   "outputs": [
    {
     "name": "stdout",
     "output_type": "stream",
     "text": [
      "MoM-estimated Gamma Log Likelihood: -inf\n"
     ]
    }
   ],
   "source": [
    "gamma_alpha_MOM = np.mean(waiting_times)**2 / np.var(waiting_times)\n",
    "gamma_beta_MOM = np.var(waiting_times) / np.mean(waiting_times)\n",
    "gamma_loglik = np.sum(np.log(stats.gamma.pdf(waiting_times, a=gamma_alpha_MOM, scale=1/gamma_beta_MOM)))\n",
    "\n",
    "print(\"MoM-estimated Gamma Log Likelihood:\", gamma_loglik)"
   ]
  },
  {
   "cell_type": "code",
   "execution_count": 13,
   "metadata": {
    "scrolled": true
   },
   "outputs": [
    {
     "data": {
      "image/png": "[encoded data removed]",
      "text/plain": [
       "<Figure size 432x288 with 1 Axes>"
      ]
     },
     "metadata": {
      "needs_background": "light"
     },
     "output_type": "display_data"
    }
   ],
   "source": [
    "all_alphas = [np.mean(times)**2 / np.var(times) for times in all_waiting_times]\n",
    "all_betas = [np.var(times) / np.mean(times) for times in all_waiting_times]\n",
    "all_null_rates = [sum(np.isclose(stats.gamma.pdf(all_waiting_times[i], a=gamma_alpha_MOM, scale=1/gamma_beta_MOM), 0)) /\n",
    "                  len(all_waiting_times[i]) for i in range(len(all_waiting_times))]\n",
    "\n",
    "\n",
    "plt.hist(all_null_rates, density=True);\n",
    "plt.title(\"Proportions of Zero Probability Data Points in Medium-Volume Markets \\n Gamma Fit\");"
   ]
  },
  {
   "cell_type": "markdown",
   "metadata": {},
   "source": [
    "The Gamma fit is no better than the Exponential, and no reasonable test would declare it a strong fit at all. So it turns out, the behavior of humans on markets is more complex than one or two parameters can describe! One suggestion is that there is reason to belive that action in prediction markets may be clustered. An event can spark many people to want to update their predictions quickly, or a new prediction may cause a change in the market that causes other bettors to engage and put it back in equilibrium. It may be worth investigating distributions related to Hawkes processes, to see if its self-excitatory nature can inspire a good fit. \n",
    "\n",
    "Upon looking closer at the data, one note I'd like to make is that many of the markets are highly similar. For example, one is to predict whether S&P 500 hits 5100 by a date, and another is to see if it hits 5105. Users often will bet on these markets right after one another. So if one would like to consider this a study of just a few markets rather than of 28, that would be very fair, and arguably a more accurate interpretation. \n",
    "\n",
    "In the future, I hope to be able to use data from a prediction market that includes the IDs of invdividuals who place orders. Perhaps some users can be modeled with Exponential distributions, while others (such as bots) cannot. Examining differences between individuals' rates could also be insightful. "
   ]
  }
 ],
 "metadata": {
  "kernelspec": {
   "display_name": "Python 3",
   "language": "python",
   "name": "python3"
  },
  "language_info": {
   "codemirror_mode": {
    "name": "ipython",
    "version": 3
   },
   "file_extension": ".py",
   "mimetype": "text/x-python",
   "name": "python",
   "nbconvert_exporter": "python",
   "pygments_lexer": "ipython3",
   "version": "3.7.3"
  }
 },
 "nbformat": 4,
 "nbformat_minor": 2
}
