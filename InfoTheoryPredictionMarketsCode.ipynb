{
 "cells": [
  {
   "cell_type": "code",
   "execution_count": null,
   "metadata": {},
   "outputs": [],
   "source": [
    "import numpy as np\n",
    "import kalshi_python\n",
    "from kalshi_python.models import *\n",
    "import uuid"
   ]
  },
  {
   "cell_type": "code",
   "execution_count": null,
   "metadata": {
    "scrolled": false
   },
   "outputs": [],
   "source": [
    "import matplotlib.pyplot as plt\n",
    "from scipy import stats\n",
    "import statsmodels\n",
    "import pymc3 as pm"
   ]
  },
  {
   "cell_type": "code",
   "execution_count": null,
   "metadata": {},
   "outputs": [],
   "source": [
    "config = kalshi_python.Configuration()\n",
    "config.host = 'https://demo-api.kalshi.co/trade-api/v2'"
   ]
  },
  {
   "cell_type": "code",
   "execution_count": null,
   "metadata": {},
   "outputs": [],
   "source": [
    "# this is a demo only account and has no cashable money on it, but you're welcome to fund it :)\n",
    "kalshi_api = kalshi_python.ApiInstance(\n",
    "    email='ianjoffe@uchicago.edu',\n",
    "    password='Linear-Sketch-2024!',\n",
    "    configuration=config,\n",
    ")"
   ]
  },
  {
   "cell_type": "code",
   "execution_count": null,
   "metadata": {},
   "outputs": [],
   "source": [
    "kalshi_api.get_markets(limit=1000).markets"
   ]
  },
  {
   "cell_type": "code",
   "execution_count": null,
   "metadata": {},
   "outputs": [],
   "source": [
    "min_volume = 10\n",
    "max_volume = 50\n",
    "\n",
    "markets = [m for m in kalshi_api.get_markets(limit=1000).markets \n",
    "    if (m.volume > min_volume and m.volume < max_volume)]"
   ]
  },
  {
   "cell_type": "code",
   "execution_count": null,
   "metadata": {},
   "outputs": [],
   "source": [
    "markets[1].ticker"
   ]
  },
  {
   "cell_type": "code",
   "execution_count": null,
   "metadata": {},
   "outputs": [],
   "source": [
    "market_hisotry = kalshi_api.get_market_history(markets[1].ticker)\n",
    "order_times = np.array([order.ts for order in market_hisotry.history])\n",
    "order_times = order_times - min(order_times)\n",
    "waiting_times = np.diff(order_times)\n",
    "waiting_times"
   ]
  },
  {
   "cell_type": "code",
   "execution_count": null,
   "metadata": {},
   "outputs": [],
   "source": [
    "# MLE fit for exponential distribution\n",
    "expon_lambda_MLE = 1/np.mean(waiting_times)\n",
    "expon_lambda_MLE"
   ]
  },
  {
   "cell_type": "code",
   "execution_count": null,
   "metadata": {},
   "outputs": [],
   "source": [
    "# likelihood of data under exponential fit\n",
    "expon_loglik = np.sum(np.log(stats.expon.pdf(waiting_times, expon_lambda_MLE)))\n",
    "expon_loglik"
   ]
  },
  {
   "cell_type": "code",
   "execution_count": null,
   "metadata": {},
   "outputs": [],
   "source": [
    "# MLE for double-gamma does not exist, so we estimate paramaters with Bayesian methods\n",
    "with pm.Model() as model:\n",
    "    # priors via method of moments\n",
    "    lambda_rate = pm.Gamma('lambda', alpha=np.mean(waiting_times)**2 / np.var(waiting_times)\n",
    "                           , beta=np.mean(waiting_times) / np.var(waiting_times))\n",
    "    observation = pm.Exponential('obs', lam=lambda_rate, observed=waiting_times)\n",
    "    trace = pm.sample(1000)"
   ]
  },
  {
   "cell_type": "code",
   "execution_count": null,
   "metadata": {},
   "outputs": [],
   "source": [
    "# likelihood ratio test compared to null dist., double-gamma (avoids overdispersion)"
   ]
  },
  {
   "cell_type": "code",
   "execution_count": null,
   "metadata": {},
   "outputs": [],
   "source": [
    "# are agents lambdas close together, or far apart?\n",
    "# difficult question since orderer IDs are not accessible"
   ]
  }
 ],
 "metadata": {
  "kernelspec": {
   "display_name": "Python 3",
   "language": "python",
   "name": "python3"
  },
  "language_info": {
   "codemirror_mode": {
    "name": "ipython",
    "version": 3
   },
   "file_extension": ".py",
   "mimetype": "text/x-python",
   "name": "python",
   "nbconvert_exporter": "python",
   "pygments_lexer": "ipython3",
   "version": "3.7.3"
  }
 },
 "nbformat": 4,
 "nbformat_minor": 2
}
